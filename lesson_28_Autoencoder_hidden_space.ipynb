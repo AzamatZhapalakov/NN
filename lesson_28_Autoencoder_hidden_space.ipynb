{
  "nbformat": 4,
  "nbformat_minor": 0,
  "metadata": {
    "colab": {
      "provenance": [],
      "authorship_tag": "ABX9TyNe/H8ZDgcvmZq8rordE/Mh",
      "include_colab_link": true
    },
    "kernelspec": {
      "name": "python3",
      "display_name": "Python 3"
    },
    "language_info": {
      "name": "python"
    }
  },
  "cells": [
    {
      "cell_type": "markdown",
      "metadata": {
        "id": "view-in-github",
        "colab_type": "text"
      },
      "source": [
        "<a href=\"https://colab.research.google.com/github/AzamatZhapalakov/NN/blob/main/lesson_28_Autoencoder_hidden_space.ipynb\" target=\"_parent\"><img src=\"https://colab.research.google.com/assets/colab-badge.svg\" alt=\"Open In Colab\"/></a>"
      ]
    },
    {
      "cell_type": "code",
      "execution_count": 1,
      "metadata": {
        "id": "0Pd8vQ3tCkQn"
      },
      "outputs": [],
      "source": [
        "import numpy as np\n",
        "import matplotlib.pyplot as plt\n",
        "from tensorflow.keras.datasets import mnist\n",
        "from tensorflow import keras\n",
        "from tensorflow.keras.layers import Dense, Flatten, Reshape, Input"
      ]
    },
    {
      "cell_type": "code",
      "source": [
        "(x_train, y_train), (x_test, y_test) = mnist.load_data()\n",
        "\n",
        "# стандартизация входных данных\n",
        "x_train = x_train / 255\n",
        "x_test = x_test / 255\n",
        "\n",
        "x_train = np.reshape(x_train, (len(x_train), 28, 28, 1))\n",
        "x_test  = np.reshape(x_test,  (len(x_test),  28, 28, 1))"
      ],
      "metadata": {
        "colab": {
          "base_uri": "https://localhost:8080/"
        },
        "id": "r4OZAtxsDCHy",
        "outputId": "e349751b-086f-46c8-fadd-bcb54318b151"
      },
      "execution_count": 2,
      "outputs": [
        {
          "output_type": "stream",
          "name": "stdout",
          "text": [
            "Downloading data from https://storage.googleapis.com/tensorflow/tf-keras-datasets/mnist.npz\n",
            "11490434/11490434 [==============================] - 0s 0us/step\n"
          ]
        }
      ]
    },
    {
      "cell_type": "code",
      "source": [
        "input_img = Input(shape=(28, 28, 1))\n",
        "x = Flatten()(input_img)\n",
        "x = Dense(128, activation='relu')(x)\n",
        "x = Dense(64, activation='relu')(x)\n",
        "encoded = Dense(2, activation='linear')(x)\n",
        "\n",
        "input_enc = Input(shape=(2,))\n",
        "d = Dense(64, activation='relu')(input_enc)\n",
        "d = Dense(28*28, activation='sigmoid')(d)\n",
        "decoded = Reshape((28, 28, 1))(d)\n",
        "\n",
        "encoder = keras.Model(input_img, encoded, name=\"encoder\")\n",
        "decoder = keras.Model(input_enc, decoded, name=\"decoder\")\n",
        "autoencoder = keras.Model(input_img, decoder(encoder(input_img)), name=\"autoencoder\")\n",
        "autoencoder.compile(optimizer='adam', loss='mean_squared_error')"
      ],
      "metadata": {
        "id": "c-PVUlRQDLvq"
      },
      "execution_count": 3,
      "outputs": []
    },
    {
      "cell_type": "code",
      "source": [
        "autoencoder.fit(x_train, x_train,\n",
        "                epochs=10,\n",
        "                batch_size=64,\n",
        "                shuffle=True)"
      ],
      "metadata": {
        "colab": {
          "base_uri": "https://localhost:8080/"
        },
        "id": "lruG7EOSDQKR",
        "outputId": "bfc6799b-9695-4a4a-d3b2-509ef52c1187"
      },
      "execution_count": 4,
      "outputs": [
        {
          "output_type": "stream",
          "name": "stdout",
          "text": [
            "Epoch 1/10\n",
            "938/938 [==============================] - 6s 5ms/step - loss: 0.0594\n",
            "Epoch 2/10\n",
            "938/938 [==============================] - 6s 7ms/step - loss: 0.0494\n",
            "Epoch 3/10\n",
            "938/938 [==============================] - 5s 5ms/step - loss: 0.0473\n",
            "Epoch 4/10\n",
            "938/938 [==============================] - 7s 7ms/step - loss: 0.0460\n",
            "Epoch 5/10\n",
            "938/938 [==============================] - 5s 6ms/step - loss: 0.0449\n",
            "Epoch 6/10\n",
            "938/938 [==============================] - 6s 6ms/step - loss: 0.0442\n",
            "Epoch 7/10\n",
            "938/938 [==============================] - 6s 7ms/step - loss: 0.0436\n",
            "Epoch 8/10\n",
            "938/938 [==============================] - 6s 7ms/step - loss: 0.0432\n",
            "Epoch 9/10\n",
            "938/938 [==============================] - 7s 7ms/step - loss: 0.0428\n",
            "Epoch 10/10\n",
            "938/938 [==============================] - 7s 7ms/step - loss: 0.0425\n"
          ]
        },
        {
          "output_type": "execute_result",
          "data": {
            "text/plain": [
              "<keras.callbacks.History at 0x7f8f5eb9ddc0>"
            ]
          },
          "metadata": {},
          "execution_count": 4
        }
      ]
    },
    {
      "cell_type": "code",
      "source": [
        "h = encoder.predict(x_test)"
      ],
      "metadata": {
        "colab": {
          "base_uri": "https://localhost:8080/"
        },
        "id": "vj7m0d7zDaW8",
        "outputId": "e8208a90-a0cd-49ba-9ec3-8e37b2b0561d"
      },
      "execution_count": 5,
      "outputs": [
        {
          "output_type": "stream",
          "name": "stdout",
          "text": [
            "313/313 [==============================] - 1s 2ms/step\n"
          ]
        }
      ]
    },
    {
      "cell_type": "code",
      "source": [
        "a = plt.scatter(h[:, 0], h[:, 1])"
      ],
      "metadata": {
        "colab": {
          "base_uri": "https://localhost:8080/",
          "height": 265
        },
        "id": "RPPNRupLD4jD",
        "outputId": "b7c03acd-a035-40bc-9e19-1d679013c973"
      },
      "execution_count": 20,
      "outputs": [
        {
          "output_type": "display_data",
          "data": {
            "text/plain": [
              "<Figure size 432x288 with 1 Axes>"
            ],
            "image/png": "[encoded data removed]"
          },
          "metadata": {
            "needs_background": "light"
          }
        }
      ]
    },
    {
      "cell_type": "code",
      "source": [
        "img = decoder.predict(np.expand_dims([-1000, 1000], axis=0))\n",
        "plt.imshow(img.squeeze(), cmap='gray')"
      ],
      "metadata": {
        "colab": {
          "base_uri": "https://localhost:8080/",
          "height": 300
        },
        "id": "5SSpz-eID_Xq",
        "outputId": "98d86cb3-b9e7-47ff-d455-6c163f6c9279"
      },
      "execution_count": 19,
      "outputs": [
        {
          "output_type": "stream",
          "name": "stdout",
          "text": [
            "1/1 [==============================] - 0s 24ms/step\n"
          ]
        },
        {
          "output_type": "execute_result",
          "data": {
            "text/plain": [
              "<matplotlib.image.AxesImage at 0x7f8f42388130>"
            ]
          },
          "metadata": {},
          "execution_count": 19
        },
        {
          "output_type": "display_data",
          "data": {
            "text/plain": [
              "<Figure size 432x288 with 1 Axes>"
            ],
            "image/png": "[encoded data removed]"
          },
          "metadata": {
            "needs_background": "light"
          }
        }
      ]
    }
  ]
}